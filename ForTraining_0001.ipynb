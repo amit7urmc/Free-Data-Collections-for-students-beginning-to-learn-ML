{
 "cells": [
  {
   "cell_type": "code",
   "execution_count": 1,
   "metadata": {},
   "outputs": [],
   "source": [
    "import tensorflow as tf\n",
    "import numpy as np\n",
    "import pandas as pd\n",
    "from tensorflow import keras\n",
    "from sklearn.model_selection import train_test_split\n",
    "import matplotlib.pyplot as plt"
   ]
  },
  {
   "cell_type": "markdown",
   "metadata": {},
   "source": [
    "# Data for Training for \"ForTraining_0001.csv\".\n",
    "\n",
    "### Data has two input columns/features/independent variables as numbers called A and B\n",
    "### 9 mathematical operations have been performed to generate 9 dependent numerical columns\n",
    "#### They are as below\n",
    "\n",
    "* Addition = A + B\n",
    "* Subtraction = A - B\n",
    "* Multiplication = A * B\n",
    "* Division = A / B\n",
    "* Sin(Addition) = sin (A + B)\n",
    "* Cos(Addition) = cos (A + B)\n",
    "* sqrt(Addition) = SQRT( A + B) if (A + B) >= 0 or -1.00 if (A +B ) < 0\n",
    "* 2 ^ Addition = 2 ^ (A +B)\n",
    "* Log(Addition) = log(A + B)\n",
    "\n",
    "### Additionally there is a dependent column present for classification training.\n",
    "* ODD_OR_EVEN(CEIL(A+B)) = If MODULUS of CEIL(A + B) = 0 then \"EVEN\" else \"ODD\" [To be used for *classification training *]"
   ]
  },
  {
   "cell_type": "code",
   "execution_count": 2,
   "metadata": {},
   "outputs": [],
   "source": [
    "Master_DF = pd.read_csv(\"./ForTraining_0001.csv\")"
   ]
  },
  {
   "cell_type": "code",
   "execution_count": 3,
   "metadata": {},
   "outputs": [
    {
     "data": {
      "text/html": [
       "<div>\n",
       "<style scoped>\n",
       "    .dataframe tbody tr th:only-of-type {\n",
       "        vertical-align: middle;\n",
       "    }\n",
       "\n",
       "    .dataframe tbody tr th {\n",
       "        vertical-align: top;\n",
       "    }\n",
       "\n",
       "    .dataframe thead th {\n",
       "        text-align: right;\n",
       "    }\n",
       "</style>\n",
       "<table border=\"1\" class=\"dataframe\">\n",
       "  <thead>\n",
       "    <tr style=\"text-align: right;\">\n",
       "      <th></th>\n",
       "      <th>A</th>\n",
       "      <th>B</th>\n",
       "      <th>Addition</th>\n",
       "      <th>Subtraction</th>\n",
       "      <th>Multiplication</th>\n",
       "      <th>Division</th>\n",
       "      <th>Sin(Addition)</th>\n",
       "      <th>Cos(Addition)</th>\n",
       "      <th>Sqrt(Addition)</th>\n",
       "      <th>2^Addition</th>\n",
       "      <th>Log(Addition)</th>\n",
       "      <th>ODD_OR_EVEN(CEIL(A+B))</th>\n",
       "    </tr>\n",
       "  </thead>\n",
       "  <tbody>\n",
       "    <tr>\n",
       "      <th>0</th>\n",
       "      <td>9.93</td>\n",
       "      <td>9.06</td>\n",
       "      <td>18.99</td>\n",
       "      <td>0.87</td>\n",
       "      <td>89.97</td>\n",
       "      <td>1.10</td>\n",
       "      <td>0.14</td>\n",
       "      <td>0.99</td>\n",
       "      <td>4.36</td>\n",
       "      <td>520666.48</td>\n",
       "      <td>1.28</td>\n",
       "      <td>Odd</td>\n",
       "    </tr>\n",
       "    <tr>\n",
       "      <th>1</th>\n",
       "      <td>-3.56</td>\n",
       "      <td>3.48</td>\n",
       "      <td>-0.08</td>\n",
       "      <td>-7.04</td>\n",
       "      <td>-12.39</td>\n",
       "      <td>-1.02</td>\n",
       "      <td>-0.08</td>\n",
       "      <td>1.00</td>\n",
       "      <td>-1.00</td>\n",
       "      <td>0.95</td>\n",
       "      <td>-1.00</td>\n",
       "      <td>Even</td>\n",
       "    </tr>\n",
       "    <tr>\n",
       "      <th>2</th>\n",
       "      <td>-7.52</td>\n",
       "      <td>8.24</td>\n",
       "      <td>0.72</td>\n",
       "      <td>-15.76</td>\n",
       "      <td>-61.96</td>\n",
       "      <td>-0.91</td>\n",
       "      <td>0.66</td>\n",
       "      <td>0.75</td>\n",
       "      <td>0.85</td>\n",
       "      <td>1.65</td>\n",
       "      <td>-0.14</td>\n",
       "      <td>Odd</td>\n",
       "    </tr>\n",
       "    <tr>\n",
       "      <th>3</th>\n",
       "      <td>-1.92</td>\n",
       "      <td>3.37</td>\n",
       "      <td>1.45</td>\n",
       "      <td>-5.29</td>\n",
       "      <td>-6.47</td>\n",
       "      <td>-0.57</td>\n",
       "      <td>0.99</td>\n",
       "      <td>0.12</td>\n",
       "      <td>1.20</td>\n",
       "      <td>2.73</td>\n",
       "      <td>0.16</td>\n",
       "      <td>Even</td>\n",
       "    </tr>\n",
       "    <tr>\n",
       "      <th>4</th>\n",
       "      <td>-5.55</td>\n",
       "      <td>7.42</td>\n",
       "      <td>1.87</td>\n",
       "      <td>-12.97</td>\n",
       "      <td>-41.18</td>\n",
       "      <td>-0.75</td>\n",
       "      <td>0.96</td>\n",
       "      <td>-0.29</td>\n",
       "      <td>1.37</td>\n",
       "      <td>3.66</td>\n",
       "      <td>0.27</td>\n",
       "      <td>Even</td>\n",
       "    </tr>\n",
       "    <tr>\n",
       "      <th>...</th>\n",
       "      <td>...</td>\n",
       "      <td>...</td>\n",
       "      <td>...</td>\n",
       "      <td>...</td>\n",
       "      <td>...</td>\n",
       "      <td>...</td>\n",
       "      <td>...</td>\n",
       "      <td>...</td>\n",
       "      <td>...</td>\n",
       "      <td>...</td>\n",
       "      <td>...</td>\n",
       "      <td>...</td>\n",
       "    </tr>\n",
       "    <tr>\n",
       "      <th>9995</th>\n",
       "      <td>-2.84</td>\n",
       "      <td>6.22</td>\n",
       "      <td>3.38</td>\n",
       "      <td>-9.06</td>\n",
       "      <td>-17.66</td>\n",
       "      <td>-0.46</td>\n",
       "      <td>-0.24</td>\n",
       "      <td>-0.97</td>\n",
       "      <td>1.84</td>\n",
       "      <td>10.41</td>\n",
       "      <td>0.53</td>\n",
       "      <td>Even</td>\n",
       "    </tr>\n",
       "    <tr>\n",
       "      <th>9996</th>\n",
       "      <td>-5.01</td>\n",
       "      <td>7.38</td>\n",
       "      <td>2.37</td>\n",
       "      <td>-12.39</td>\n",
       "      <td>-36.97</td>\n",
       "      <td>-0.68</td>\n",
       "      <td>0.70</td>\n",
       "      <td>-0.72</td>\n",
       "      <td>1.54</td>\n",
       "      <td>5.17</td>\n",
       "      <td>0.37</td>\n",
       "      <td>Odd</td>\n",
       "    </tr>\n",
       "    <tr>\n",
       "      <th>9997</th>\n",
       "      <td>4.74</td>\n",
       "      <td>-0.18</td>\n",
       "      <td>4.56</td>\n",
       "      <td>4.92</td>\n",
       "      <td>-0.85</td>\n",
       "      <td>-26.33</td>\n",
       "      <td>-0.99</td>\n",
       "      <td>-0.15</td>\n",
       "      <td>2.14</td>\n",
       "      <td>23.59</td>\n",
       "      <td>0.66</td>\n",
       "      <td>Odd</td>\n",
       "    </tr>\n",
       "    <tr>\n",
       "      <th>9998</th>\n",
       "      <td>-5.86</td>\n",
       "      <td>-0.03</td>\n",
       "      <td>-5.89</td>\n",
       "      <td>-5.83</td>\n",
       "      <td>0.18</td>\n",
       "      <td>195.33</td>\n",
       "      <td>0.38</td>\n",
       "      <td>0.92</td>\n",
       "      <td>-1.00</td>\n",
       "      <td>0.02</td>\n",
       "      <td>-1.00</td>\n",
       "      <td>Odd</td>\n",
       "    </tr>\n",
       "    <tr>\n",
       "      <th>9999</th>\n",
       "      <td>1.79</td>\n",
       "      <td>-3.63</td>\n",
       "      <td>-1.84</td>\n",
       "      <td>5.42</td>\n",
       "      <td>-6.50</td>\n",
       "      <td>-0.49</td>\n",
       "      <td>-0.96</td>\n",
       "      <td>-0.27</td>\n",
       "      <td>-1.00</td>\n",
       "      <td>0.28</td>\n",
       "      <td>-1.00</td>\n",
       "      <td>Odd</td>\n",
       "    </tr>\n",
       "  </tbody>\n",
       "</table>\n",
       "<p>10000 rows × 12 columns</p>\n",
       "</div>"
      ],
      "text/plain": [
       "         A     B  Addition  Subtraction  Multiplication Division  \\\n",
       "0     9.93  9.06     18.99         0.87           89.97     1.10   \n",
       "1    -3.56  3.48     -0.08        -7.04          -12.39    -1.02   \n",
       "2    -7.52  8.24      0.72       -15.76          -61.96    -0.91   \n",
       "3    -1.92  3.37      1.45        -5.29           -6.47    -0.57   \n",
       "4    -5.55  7.42      1.87       -12.97          -41.18    -0.75   \n",
       "...    ...   ...       ...          ...             ...      ...   \n",
       "9995 -2.84  6.22      3.38        -9.06          -17.66    -0.46   \n",
       "9996 -5.01  7.38      2.37       -12.39          -36.97    -0.68   \n",
       "9997  4.74 -0.18      4.56         4.92           -0.85   -26.33   \n",
       "9998 -5.86 -0.03     -5.89        -5.83            0.18   195.33   \n",
       "9999  1.79 -3.63     -1.84         5.42           -6.50    -0.49   \n",
       "\n",
       "      Sin(Addition)  Cos(Addition)  Sqrt(Addition)  2^Addition Log(Addition)  \\\n",
       "0              0.14           0.99            4.36   520666.48          1.28   \n",
       "1             -0.08           1.00           -1.00        0.95         -1.00   \n",
       "2              0.66           0.75            0.85        1.65         -0.14   \n",
       "3              0.99           0.12            1.20        2.73          0.16   \n",
       "4              0.96          -0.29            1.37        3.66          0.27   \n",
       "...             ...            ...             ...         ...           ...   \n",
       "9995          -0.24          -0.97            1.84       10.41          0.53   \n",
       "9996           0.70          -0.72            1.54        5.17          0.37   \n",
       "9997          -0.99          -0.15            2.14       23.59          0.66   \n",
       "9998           0.38           0.92           -1.00        0.02         -1.00   \n",
       "9999          -0.96          -0.27           -1.00        0.28         -1.00   \n",
       "\n",
       "     ODD_OR_EVEN(CEIL(A+B))  \n",
       "0                       Odd  \n",
       "1                      Even  \n",
       "2                       Odd  \n",
       "3                      Even  \n",
       "4                      Even  \n",
       "...                     ...  \n",
       "9995                   Even  \n",
       "9996                    Odd  \n",
       "9997                    Odd  \n",
       "9998                    Odd  \n",
       "9999                    Odd  \n",
       "\n",
       "[10000 rows x 12 columns]"
      ]
     },
     "execution_count": 3,
     "metadata": {},
     "output_type": "execute_result"
    }
   ],
   "source": [
    "Master_DF"
   ]
  },
  {
   "cell_type": "code",
   "execution_count": 12,
   "metadata": {},
   "outputs": [],
   "source": [
    "class Training_Tensorflow:\n",
    "    \n",
    "    def __init__(self, \n",
    "                 A = Master_DF.A, \n",
    "                 B = Master_DF.B, \n",
    "                 OutputVector=None, \n",
    "                 ClassificationOrRegression=\"Regression\"):\n",
    "        \n",
    "        self.A = A\n",
    "        self.B = B\n",
    "        self.OutputVector = OutputVector\n",
    "        self.TypeOfTraining = ClassificationOrRegression\n",
    "        self.Training_DF = None\n",
    "        self.Test_DF = None\n",
    "        self.Model = None\n",
    "        self.Predicted_DF = None\n",
    "        self.TrainTestSplit()\n",
    "        \n",
    "    def TrainTestSplit(self, TestFractionSize=0.2):\n",
    "        self.Training_DF, self.Test_DF = train_test_split(Master_DF, test_size=TestFractionSize)\n",
    "        \n",
    "    def TrainTheModel(self, DenseNodeSize = 1000, activation='linear',optimizer='sgd', loss='mean_squared_error'):\n",
    "        self.Model = tf.keras.Sequential()\n",
    "        self.Model.add(keras.layers.Dense(DenseNodeSize, activation=activation))\n",
    "        self.Model.add(keras.layers.Dense(DenseNodeSize, activation=activation))\n",
    "        self.Model.compile(optimizer=optimizer,loss=loss)\n",
    "        xs = np.array([(a,b) for a,b in zip(self.Training_DF.A,self.Training_DF.B)])\n",
    "        ys = np.array(self.Training_DF[self.OutputVector], dtype='float')\n",
    "        self.Model.fit(xs,ys,epochs=25)\n",
    "        \n",
    "    def PredictTheResult(self):\n",
    "        self.Predicted_DF = pd.DataFrame(columns=['InputVals','PredictedVals','Difference'],dtype='float')\n",
    "        self.Predicted_DF.InputVals = self.Test_DF[self.OutputVector]\n",
    "        xs = np.array([(a,b) for a,b in zip(self.Test_DF.A,self.Test_DF.B)])\n",
    "        self.Predicted_DF.PredictedVals = self.Model.predict(xs)[:len(self.Test_DF)]\n",
    "        self.Predicted_DF.Difference = self.Predicted_DF.InputVals - self.Predicted_DF.PredictedVals\n",
    "        \n",
    "    def PredictOneVal(self, A=None, B=None):\n",
    "        return np.round(self.Model.predict(np.array([[A,B]]))[0][0],2)\n",
    "    \n",
    "    def PlotThePredicted_DF(self):\n",
    "        plt.figure()\n",
    "        plt.plot(range(len(self.Test_DF)),self.Predicted_DF.Difference)\n",
    "        plt.show()"
   ]
  },
  {
   "cell_type": "markdown",
   "metadata": {},
   "source": [
    "# Let us try to see if we can learn addition behavior between A and B"
   ]
  },
  {
   "cell_type": "code",
   "execution_count": 213,
   "metadata": {},
   "outputs": [
    {
     "name": "stdout",
     "output_type": "stream",
     "text": [
      "Train on 8000 samples\n",
      "Epoch 1/25\n",
      "8000/8000 [==============================] - 2s 277us/sample - loss: 14.5529\n",
      "Epoch 2/25\n",
      "8000/8000 [==============================] - 2s 249us/sample - loss: 0.0142\n",
      "Epoch 3/25\n",
      "8000/8000 [==============================] - 2s 250us/sample - loss: 0.0063\n",
      "Epoch 4/25\n",
      "8000/8000 [==============================] - 2s 255us/sample - loss: 0.0031\n",
      "Epoch 5/25\n",
      "8000/8000 [==============================] - 2s 252us/sample - loss: 0.0017\n",
      "Epoch 6/25\n",
      "8000/8000 [==============================] - 2s 251us/sample - loss: 9.3698e-04\n",
      "Epoch 7/25\n",
      "8000/8000 [==============================] - 2s 252us/sample - loss: 5.3797e-04\n",
      "Epoch 8/25\n",
      "8000/8000 [==============================] - 2s 251us/sample - loss: 3.1506e-04\n",
      "Epoch 9/25\n",
      "8000/8000 [==============================] - 2s 251us/sample - loss: 1.8714e-04\n",
      "Epoch 10/25\n",
      "8000/8000 [==============================] - 2s 252us/sample - loss: 1.1235e-04\n",
      "Epoch 11/25\n",
      "8000/8000 [==============================] - 2s 252us/sample - loss: 6.7993e-05\n",
      "Epoch 12/25\n",
      "8000/8000 [==============================] - 2s 252us/sample - loss: 4.1402e-05\n",
      "Epoch 13/25\n",
      "8000/8000 [==============================] - 2s 252us/sample - loss: 2.5344e-05\n",
      "Epoch 14/25\n",
      "8000/8000 [==============================] - 2s 258us/sample - loss: 1.5577e-05\n",
      "Epoch 15/25\n",
      "8000/8000 [==============================] - 2s 253us/sample - loss: 9.6073e-06\n",
      "Epoch 16/25\n",
      "8000/8000 [==============================] - 2s 254us/sample - loss: 5.9437e-06\n",
      "Epoch 17/25\n",
      "8000/8000 [==============================] - 2s 255us/sample - loss: 3.6875e-06\n",
      "Epoch 18/25\n",
      "8000/8000 [==============================] - 2s 255us/sample - loss: 2.2928e-06\n",
      "Epoch 19/25\n",
      "8000/8000 [==============================] - 2s 257us/sample - loss: 1.4293e-06\n",
      "Epoch 20/25\n",
      "8000/8000 [==============================] - 2s 255us/sample - loss: 8.9300e-07\n",
      "Epoch 21/25\n",
      "8000/8000 [==============================] - 2s 255us/sample - loss: 5.5954e-07\n",
      "Epoch 22/25\n",
      "8000/8000 [==============================] - 2s 255us/sample - loss: 3.5191e-07\n",
      "Epoch 23/25\n",
      "8000/8000 [==============================] - 2s 256us/sample - loss: 2.2252e-07\n",
      "Epoch 24/25\n",
      "8000/8000 [==============================] - 2s 278us/sample - loss: 1.4202e-07\n",
      "Epoch 25/25\n",
      "8000/8000 [==============================] - 2s 256us/sample - loss: 9.1884e-08\n"
     ]
    }
   ],
   "source": [
    "AdditionTraining = Training_Tensorflow(OutputVector='Addition')\n",
    "AdditionTraining.TrainTheModel()"
   ]
  },
  {
   "cell_type": "code",
   "execution_count": 214,
   "metadata": {},
   "outputs": [
    {
     "data": {
      "text/plain": [
       "520.0"
      ]
     },
     "execution_count": 214,
     "metadata": {},
     "output_type": "execute_result"
    }
   ],
   "source": [
    "AdditionTraining.PredictOneVal(A=220,B=300)"
   ]
  },
  {
   "cell_type": "code",
   "execution_count": 215,
   "metadata": {},
   "outputs": [],
   "source": [
    "AdditionTraining.PredictTheResult()"
   ]
  },
  {
   "cell_type": "code",
   "execution_count": 216,
   "metadata": {},
   "outputs": [
    {
     "data": {
      "image/png": "[encoded data removed]",
      "text/plain": [
       "<Figure size 432x288 with 1 Axes>"
      ]
     },
     "metadata": {
      "needs_background": "light"
     },
     "output_type": "display_data"
    }
   ],
   "source": [
    "AdditionTraining.PlotThePredicted_DF()"
   ]
  },
  {
   "cell_type": "markdown",
   "metadata": {},
   "source": [
    "# Let us try to see if we can learn subtraction behavior between A and B"
   ]
  },
  {
   "cell_type": "code",
   "execution_count": 217,
   "metadata": {},
   "outputs": [
    {
     "name": "stdout",
     "output_type": "stream",
     "text": [
      "Train on 8000 samples\n",
      "Epoch 1/25\n",
      "8000/8000 [==============================] - 2s 280us/sample - loss: 14.3894\n",
      "Epoch 2/25\n",
      "8000/8000 [==============================] - 2s 245us/sample - loss: 0.0144\n",
      "Epoch 3/25\n",
      "8000/8000 [==============================] - 2s 265us/sample - loss: 0.0067\n",
      "Epoch 4/25\n",
      "8000/8000 [==============================] - 2s 249us/sample - loss: 0.0035\n",
      "Epoch 5/25\n",
      "8000/8000 [==============================] - 2s 250us/sample - loss: 0.0019\n",
      "Epoch 6/25\n",
      "8000/8000 [==============================] - 2s 251us/sample - loss: 0.0011\n",
      "Epoch 7/25\n",
      "8000/8000 [==============================] - 2s 252us/sample - loss: 6.7155e-04\n",
      "Epoch 8/25\n",
      "8000/8000 [==============================] - 2s 251us/sample - loss: 4.0835e-04\n",
      "Epoch 9/25\n",
      "8000/8000 [==============================] - 2s 256us/sample - loss: 2.5163e-04\n",
      "Epoch 10/25\n",
      "8000/8000 [==============================] - 2s 249us/sample - loss: 1.5669e-04\n",
      "Epoch 11/25\n",
      "8000/8000 [==============================] - 2s 248us/sample - loss: 9.8304e-05\n",
      "Epoch 12/25\n",
      "8000/8000 [==============================] - 2s 252us/sample - loss: 6.2028e-05\n",
      "Epoch 13/25\n",
      "8000/8000 [==============================] - 2s 251us/sample - loss: 3.9337e-05\n",
      "Epoch 14/25\n",
      "8000/8000 [==============================] - 2s 252us/sample - loss: 2.5043e-05\n",
      "Epoch 15/25\n",
      "8000/8000 [==============================] - 2s 252us/sample - loss: 1.5997e-05\n",
      "Epoch 16/25\n",
      "8000/8000 [==============================] - 2s 252us/sample - loss: 1.0252e-05\n",
      "Epoch 17/25\n",
      "8000/8000 [==============================] - 2s 255us/sample - loss: 6.5859e-06\n",
      "Epoch 18/25\n",
      "8000/8000 [==============================] - 2s 256us/sample - loss: 4.2429e-06\n",
      "Epoch 19/25\n",
      "8000/8000 [==============================] - 2s 254us/sample - loss: 2.7401e-06\n",
      "Epoch 20/25\n",
      "8000/8000 [==============================] - 2s 255us/sample - loss: 1.7745e-06\n",
      "Epoch 21/25\n",
      "8000/8000 [==============================] - 2s 256us/sample - loss: 1.1528e-06\n",
      "Epoch 22/25\n",
      "8000/8000 [==============================] - 2s 269us/sample - loss: 7.5207e-07\n",
      "Epoch 23/25\n",
      "8000/8000 [==============================] - 2s 258us/sample - loss: 4.9336e-07\n",
      "Epoch 24/25\n",
      "8000/8000 [==============================] - 2s 257us/sample - loss: 3.2605e-07\n",
      "Epoch 25/25\n",
      "8000/8000 [==============================] - 2s 256us/sample - loss: 2.1793e-07\n"
     ]
    }
   ],
   "source": [
    "SubtractionTraining = Training_Tensorflow(OutputVector='Subtraction')\n",
    "SubtractionTraining.TrainTheModel()"
   ]
  },
  {
   "cell_type": "code",
   "execution_count": 218,
   "metadata": {},
   "outputs": [
    {
     "data": {
      "text/plain": [
       "4.99"
      ]
     },
     "execution_count": 218,
     "metadata": {},
     "output_type": "execute_result"
    }
   ],
   "source": [
    "SubtractionTraining.PredictOneVal(A=30,B=25)"
   ]
  },
  {
   "cell_type": "code",
   "execution_count": 219,
   "metadata": {},
   "outputs": [
    {
     "data": {
      "image/png": "[encoded data removed]",
      "text/plain": [
       "<Figure size 432x288 with 1 Axes>"
      ]
     },
     "metadata": {
      "needs_background": "light"
     },
     "output_type": "display_data"
    }
   ],
   "source": [
    "SubtractionTraining.PredictTheResult()\n",
    "SubtractionTraining.PlotThePredicted_DF()"
   ]
  },
  {
   "cell_type": "markdown",
   "metadata": {},
   "source": [
    "# Let us try to see if we can learn multiplication behavior between A and B"
   ]
  },
  {
   "cell_type": "code",
   "execution_count": 205,
   "metadata": {},
   "outputs": [
    {
     "name": "stdout",
     "output_type": "stream",
     "text": [
      "Train on 8000 samples\n",
      "Epoch 1/25\n",
      "8000/8000 [==============================] - 2s 258us/sample - loss: 1141.9136\n",
      "Epoch 2/25\n",
      "8000/8000 [==============================] - 2s 234us/sample - loss: 1141.7547\n",
      "Epoch 3/25\n",
      "8000/8000 [==============================] - 2s 228us/sample - loss: 1141.7624\n",
      "Epoch 4/25\n",
      "8000/8000 [==============================] - 2s 238us/sample - loss: 1141.7286\n",
      "Epoch 5/25\n",
      "8000/8000 [==============================] - 2s 228us/sample - loss: 1141.7261\n",
      "Epoch 6/25\n",
      "8000/8000 [==============================] - 2s 230us/sample - loss: 1141.7096\n",
      "Epoch 7/25\n",
      "8000/8000 [==============================] - 2s 230us/sample - loss: 1141.7345\n",
      "Epoch 8/25\n",
      "8000/8000 [==============================] - 2s 229us/sample - loss: 1141.6844\n",
      "Epoch 9/25\n",
      "8000/8000 [==============================] - 2s 229us/sample - loss: 1141.6813\n",
      "Epoch 10/25\n",
      "8000/8000 [==============================] - 2s 225us/sample - loss: 1141.7002\n",
      "Epoch 11/25\n",
      "8000/8000 [==============================] - 2s 226us/sample - loss: 1141.6985\n",
      "Epoch 12/25\n",
      "8000/8000 [==============================] - 2s 227us/sample - loss: 1141.6780\n",
      "Epoch 13/25\n",
      "8000/8000 [==============================] - 2s 236us/sample - loss: 1141.7199\n",
      "Epoch 14/25\n",
      "8000/8000 [==============================] - 2s 231us/sample - loss: 1141.6772\n",
      "Epoch 15/25\n",
      "8000/8000 [==============================] - 2s 230us/sample - loss: 1141.7213\n",
      "Epoch 16/25\n",
      "8000/8000 [==============================] - 2s 230us/sample - loss: 1141.7032\n",
      "Epoch 17/25\n",
      "8000/8000 [==============================] - 2s 233us/sample - loss: 1141.6983\n",
      "Epoch 18/25\n",
      "8000/8000 [==============================] - 2s 234us/sample - loss: 1141.6835\n",
      "Epoch 19/25\n",
      "8000/8000 [==============================] - 2s 233us/sample - loss: 1141.6927\n",
      "Epoch 20/25\n",
      "8000/8000 [==============================] - 2s 233us/sample - loss: 1141.6741\n",
      "Epoch 21/25\n",
      "8000/8000 [==============================] - 2s 227us/sample - loss: 1141.6876\n",
      "Epoch 22/25\n",
      "8000/8000 [==============================] - 2s 225us/sample - loss: 1141.7089\n",
      "Epoch 23/25\n",
      "8000/8000 [==============================] - 2s 225us/sample - loss: 1141.6966\n",
      "Epoch 24/25\n",
      "8000/8000 [==============================] - 2s 227us/sample - loss: 1141.6759\n",
      "Epoch 25/25\n",
      "8000/8000 [==============================] - 2s 225us/sample - loss: 1141.7205\n"
     ]
    }
   ],
   "source": [
    "MultiplicationTraining = Training_Tensorflow(OutputVector='Multiplication')\n",
    "MultiplicationTraining.TrainTheModel()"
   ]
  },
  {
   "cell_type": "code",
   "execution_count": 206,
   "metadata": {},
   "outputs": [
    {
     "data": {
      "text/plain": [
       "-0.29"
      ]
     },
     "execution_count": 206,
     "metadata": {},
     "output_type": "execute_result"
    }
   ],
   "source": [
    "MultiplicationTraining.PredictOneVal(A=11,B=9)"
   ]
  },
  {
   "cell_type": "code",
   "execution_count": 207,
   "metadata": {},
   "outputs": [
    {
     "data": {
      "text/plain": [
       "-0.19"
      ]
     },
     "execution_count": 207,
     "metadata": {},
     "output_type": "execute_result"
    }
   ],
   "source": [
    "MultiplicationTraining.PredictOneVal(A=5,B=6)"
   ]
  },
  {
   "cell_type": "markdown",
   "metadata": {},
   "source": [
    "## Looks like it did a very bad job for multiplication. Given the code we can play with three parameters: number of nodes in each Dense layer, optimizer function, activation function and loss function. Let us first change Dense layer number of nodes. Let us double it and see if it helps."
   ]
  },
  {
   "cell_type": "code",
   "execution_count": 208,
   "metadata": {},
   "outputs": [
    {
     "name": "stdout",
     "output_type": "stream",
     "text": [
      "Train on 8000 samples\n",
      "Epoch 1/25\n",
      "8000/8000 [==============================] - 7s 816us/sample - loss: 1141.6739\n",
      "Epoch 2/25\n",
      "8000/8000 [==============================] - 7s 826us/sample - loss: 1141.5784\n",
      "Epoch 3/25\n",
      "8000/8000 [==============================] - 8s 996us/sample - loss: 1141.5423\n",
      "Epoch 4/25\n",
      "8000/8000 [==============================] - 7s 864us/sample - loss: 1141.5254\n",
      "Epoch 5/25\n",
      "8000/8000 [==============================] - 6s 799us/sample - loss: 1141.5061\n",
      "Epoch 6/25\n",
      "8000/8000 [==============================] - 6s 800us/sample - loss: 1141.5161\n",
      "Epoch 7/25\n",
      "8000/8000 [==============================] - 6s 808us/sample - loss: 1141.5147\n",
      "Epoch 8/25\n",
      "8000/8000 [==============================] - 6s 795us/sample - loss: 1141.4988\n",
      "Epoch 9/25\n",
      "8000/8000 [==============================] - 6s 794us/sample - loss: 1141.4848\n",
      "Epoch 10/25\n",
      "8000/8000 [==============================] - 6s 801us/sample - loss: 1141.5245\n",
      "Epoch 11/25\n",
      "8000/8000 [==============================] - 6s 804us/sample - loss: 1141.4995\n",
      "Epoch 12/25\n",
      "8000/8000 [==============================] - 6s 792us/sample - loss: 1141.5008\n",
      "Epoch 13/25\n",
      "8000/8000 [==============================] - 6s 800us/sample - loss: 1141.4973\n",
      "Epoch 14/25\n",
      "8000/8000 [==============================] - 6s 795us/sample - loss: 1141.5047\n",
      "Epoch 15/25\n",
      "8000/8000 [==============================] - 7s 829us/sample - loss: 1141.4797\n",
      "Epoch 16/25\n",
      "8000/8000 [==============================] - 6s 809us/sample - loss: 1141.5170\n",
      "Epoch 17/25\n",
      "8000/8000 [==============================] - 6s 810us/sample - loss: 1141.5017\n",
      "Epoch 18/25\n",
      "8000/8000 [==============================] - 6s 806us/sample - loss: 1141.4904\n",
      "Epoch 19/25\n",
      "8000/8000 [==============================] - 6s 805us/sample - loss: 1141.5059\n",
      "Epoch 20/25\n",
      "8000/8000 [==============================] - 6s 802us/sample - loss: 1141.4550\n",
      "Epoch 21/25\n",
      "8000/8000 [==============================] - 6s 803us/sample - loss: 1141.5039\n",
      "Epoch 22/25\n",
      "8000/8000 [==============================] - 7s 817us/sample - loss: 1141.5062\n",
      "Epoch 23/25\n",
      "8000/8000 [==============================] - 7s 822us/sample - loss: 1141.4888\n",
      "Epoch 24/25\n",
      "8000/8000 [==============================] - 7s 822us/sample - loss: 1141.4527\n",
      "Epoch 25/25\n",
      "8000/8000 [==============================] - 7s 821us/sample - loss: 1141.4794\n"
     ]
    }
   ],
   "source": [
    "MultiplicationTraining = Training_Tensorflow(OutputVector='Multiplication')\n",
    "MultiplicationTraining.TrainTheModel(DenseNodeSize=2000)"
   ]
  },
  {
   "cell_type": "markdown",
   "metadata": {},
   "source": [
    "## Looks like it didn't help much in this particular case. Let us go to the optimizer and use RMSprop optimizer now and put back the number of nodes in dense layer back to 1000"
   ]
  },
  {
   "cell_type": "code",
   "execution_count": 210,
   "metadata": {},
   "outputs": [
    {
     "name": "stdout",
     "output_type": "stream",
     "text": [
      "Train on 8000 samples\n",
      "Epoch 1/25\n",
      "8000/8000 [==============================] - 4s 449us/sample - loss: 1136.8713\n",
      "Epoch 2/25\n",
      "8000/8000 [==============================] - 3s 405us/sample - loss: 1136.2169\n",
      "Epoch 3/25\n",
      "8000/8000 [==============================] - 3s 402us/sample - loss: 1135.8102\n",
      "Epoch 4/25\n",
      "8000/8000 [==============================] - 4s 554us/sample - loss: 1135.4667\n",
      "Epoch 5/25\n",
      "8000/8000 [==============================] - 4s 491us/sample - loss: 1135.0168\n",
      "Epoch 6/25\n",
      "8000/8000 [==============================] - 3s 405us/sample - loss: 1135.8179\n",
      "Epoch 7/25\n",
      "8000/8000 [==============================] - 4s 463us/sample - loss: 1135.0970\n",
      "Epoch 8/25\n",
      "8000/8000 [==============================] - 3s 377us/sample - loss: 1135.5430\n",
      "Epoch 9/25\n",
      "8000/8000 [==============================] - 3s 410us/sample - loss: 1135.3214\n",
      "Epoch 10/25\n",
      "8000/8000 [==============================] - 3s 427us/sample - loss: 1135.0910\n",
      "Epoch 11/25\n",
      "8000/8000 [==============================] - 4s 527us/sample - loss: 1135.3725\n",
      "Epoch 12/25\n",
      "8000/8000 [==============================] - 3s 357us/sample - loss: 1135.4535\n",
      "Epoch 13/25\n",
      "8000/8000 [==============================] - 3s 355us/sample - loss: 1135.3613\n",
      "Epoch 14/25\n",
      "8000/8000 [==============================] - 3s 353us/sample - loss: 1135.3458\n",
      "Epoch 15/25\n",
      "8000/8000 [==============================] - 4s 488us/sample - loss: 1135.3708\n",
      "Epoch 16/25\n",
      "8000/8000 [==============================] - 3s 409us/sample - loss: 1135.1438\n",
      "Epoch 17/25\n",
      "8000/8000 [==============================] - 3s 349us/sample - loss: 1135.3250\n",
      "Epoch 18/25\n",
      "8000/8000 [==============================] - 3s 358us/sample - loss: 1135.2460\n",
      "Epoch 19/25\n",
      "8000/8000 [==============================] - 3s 375us/sample - loss: 1135.1816\n",
      "Epoch 20/25\n",
      "8000/8000 [==============================] - 3s 377us/sample - loss: 1135.4823\n",
      "Epoch 21/25\n",
      "8000/8000 [==============================] - 3s 382us/sample - loss: 1135.2238\n",
      "Epoch 22/25\n",
      "8000/8000 [==============================] - 3s 394us/sample - loss: 1135.1862\n",
      "Epoch 23/25\n",
      "8000/8000 [==============================] - 3s 375us/sample - loss: 1135.1995\n",
      "Epoch 24/25\n",
      "8000/8000 [==============================] - 3s 395us/sample - loss: 1135.1636\n",
      "Epoch 25/25\n",
      "8000/8000 [==============================] - 3s 406us/sample - loss: 1135.5718\n"
     ]
    }
   ],
   "source": [
    "MultiplicationTraining = Training_Tensorflow(OutputVector='Multiplication')\n",
    "MultiplicationTraining.TrainTheModel(optimizer='RMSprop')"
   ]
  },
  {
   "cell_type": "markdown",
   "metadata": {},
   "source": [
    "## Looks like it didn't help much in this particular case. Let us go to the activation and use relu activation now "
   ]
  },
  {
   "cell_type": "code",
   "execution_count": 220,
   "metadata": {},
   "outputs": [
    {
     "name": "stdout",
     "output_type": "stream",
     "text": [
      "Train on 8000 samples\n",
      "Epoch 1/25\n",
      "8000/8000 [==============================] - 2s 288us/sample - loss: 978.3456\n",
      "Epoch 2/25\n",
      "8000/8000 [==============================] - 2s 253us/sample - loss: 825.4620\n",
      "Epoch 3/25\n",
      "8000/8000 [==============================] - 2s 258us/sample - loss: 815.0098\n",
      "Epoch 4/25\n",
      "8000/8000 [==============================] - 2s 253us/sample - loss: 813.5421\n",
      "Epoch 5/25\n",
      "8000/8000 [==============================] - 2s 269us/sample - loss: 812.9176\n",
      "Epoch 6/25\n",
      "8000/8000 [==============================] - 2s 255us/sample - loss: 812.4081\n",
      "Epoch 7/25\n",
      "8000/8000 [==============================] - 2s 259us/sample - loss: 811.9347\n",
      "Epoch 8/25\n",
      "8000/8000 [==============================] - 2s 255us/sample - loss: 811.4772\n",
      "Epoch 9/25\n",
      "8000/8000 [==============================] - 2s 258us/sample - loss: 811.1309\n",
      "Epoch 10/25\n",
      "8000/8000 [==============================] - 2s 258us/sample - loss: 810.7616\n",
      "Epoch 11/25\n",
      "8000/8000 [==============================] - 2s 255us/sample - loss: 810.3534\n",
      "Epoch 12/25\n",
      "8000/8000 [==============================] - 2s 256us/sample - loss: 810.0197\n",
      "Epoch 13/25\n",
      "8000/8000 [==============================] - 2s 254us/sample - loss: 809.6762\n",
      "Epoch 14/25\n",
      "8000/8000 [==============================] - 2s 257us/sample - loss: 809.3227\n",
      "Epoch 15/25\n",
      "8000/8000 [==============================] - 2s 259us/sample - loss: 809.0290\n",
      "Epoch 16/25\n",
      "8000/8000 [==============================] - 2s 257us/sample - loss: 808.6653\n",
      "Epoch 17/25\n",
      "8000/8000 [==============================] - 2s 256us/sample - loss: 808.4026\n",
      "Epoch 18/25\n",
      "8000/8000 [==============================] - 2s 255us/sample - loss: 808.1212\n",
      "Epoch 19/25\n",
      "8000/8000 [==============================] - 2s 254us/sample - loss: 807.8168\n",
      "Epoch 20/25\n",
      "8000/8000 [==============================] - 2s 253us/sample - loss: 807.5398\n",
      "Epoch 21/25\n",
      "8000/8000 [==============================] - 2s 256us/sample - loss: 807.3358\n",
      "Epoch 22/25\n",
      "8000/8000 [==============================] - 2s 255us/sample - loss: 807.0722\n",
      "Epoch 23/25\n",
      "8000/8000 [==============================] - 2s 256us/sample - loss: 806.8525\n",
      "Epoch 24/25\n",
      "8000/8000 [==============================] - 2s 256us/sample - loss: 806.6324\n",
      "Epoch 25/25\n",
      "8000/8000 [==============================] - 2s 257us/sample - loss: 806.4202\n"
     ]
    }
   ],
   "source": [
    "MultiplicationTraining = Training_Tensorflow(OutputVector='Multiplication')\n",
    "MultiplicationTraining.TrainTheModel(activation='relu')"
   ]
  },
  {
   "cell_type": "markdown",
   "metadata": {},
   "source": [
    "### Looks like it helped a bit. Let us try a different activation function selu"
   ]
  },
  {
   "cell_type": "code",
   "execution_count": 222,
   "metadata": {},
   "outputs": [
    {
     "name": "stdout",
     "output_type": "stream",
     "text": [
      "Train on 8000 samples\n",
      "Epoch 1/25\n",
      "8000/8000 [==============================] - 3s 318us/sample - loss: 957.0390\n",
      "Epoch 2/25\n",
      "8000/8000 [==============================] - 2s 275us/sample - loss: 605.6590\n",
      "Epoch 3/25\n",
      "8000/8000 [==============================] - 2s 276us/sample - loss: 540.5377\n",
      "Epoch 4/25\n",
      "8000/8000 [==============================] - 2s 277us/sample - loss: 526.6689\n",
      "Epoch 5/25\n",
      "8000/8000 [==============================] - 2s 275us/sample - loss: 524.3336\n",
      "Epoch 6/25\n",
      "8000/8000 [==============================] - 2s 277us/sample - loss: 523.3199\n",
      "Epoch 7/25\n",
      "8000/8000 [==============================] - 2s 277us/sample - loss: 522.4881\n",
      "Epoch 8/25\n",
      "8000/8000 [==============================] - 2s 282us/sample - loss: 521.7660\n",
      "Epoch 9/25\n",
      "8000/8000 [==============================] - 2s 285us/sample - loss: 521.2314\n",
      "Epoch 10/25\n",
      "8000/8000 [==============================] - 2s 282us/sample - loss: 520.7107\n",
      "Epoch 11/25\n",
      "8000/8000 [==============================] - 2s 288us/sample - loss: 520.2887\n",
      "Epoch 12/25\n",
      "8000/8000 [==============================] - 2s 279us/sample - loss: 519.9408\n",
      "Epoch 13/25\n",
      "8000/8000 [==============================] - 2s 280us/sample - loss: 519.6240\n",
      "Epoch 14/25\n",
      "8000/8000 [==============================] - 2s 291us/sample - loss: 519.4522\n",
      "Epoch 15/25\n",
      "8000/8000 [==============================] - 2s 280us/sample - loss: 519.2417\n",
      "Epoch 16/25\n",
      "8000/8000 [==============================] - 2s 281us/sample - loss: 519.0878\n",
      "Epoch 17/25\n",
      "8000/8000 [==============================] - 2s 282us/sample - loss: 518.9288\n",
      "Epoch 18/25\n",
      "8000/8000 [==============================] - 2s 299us/sample - loss: 518.8403\n",
      "Epoch 19/25\n",
      "8000/8000 [==============================] - 2s 275us/sample - loss: 518.7536\n",
      "Epoch 20/25\n",
      "8000/8000 [==============================] - 2s 274us/sample - loss: 518.6780\n",
      "Epoch 21/25\n",
      "8000/8000 [==============================] - 2s 272us/sample - loss: 518.6438\n",
      "Epoch 22/25\n",
      "8000/8000 [==============================] - 2s 264us/sample - loss: 518.5911\n",
      "Epoch 23/25\n",
      "8000/8000 [==============================] - 2s 250us/sample - loss: 518.5226\n",
      "Epoch 24/25\n",
      "8000/8000 [==============================] - 2s 250us/sample - loss: 518.4866\n",
      "Epoch 25/25\n",
      "8000/8000 [==============================] - 2s 256us/sample - loss: 518.4865\n"
     ]
    }
   ],
   "source": [
    "MultiplicationTraining = Training_Tensorflow(OutputVector='Multiplication')\n",
    "MultiplicationTraining.TrainTheModel(activation='selu')"
   ]
  },
  {
   "cell_type": "markdown",
   "metadata": {},
   "source": [
    "### Little better but still far off. Time to move to the loss function while keeping the activation of selu intact. Let us try mean_squared_logarithmic_error"
   ]
  },
  {
   "cell_type": "code",
   "execution_count": 9,
   "metadata": {},
   "outputs": [
    {
     "name": "stdout",
     "output_type": "stream",
     "text": [
      "Train on 8000 samples\n",
      "Epoch 1/25\n",
      "8000/8000 [==============================] - 3s 320us/sample - loss: 4.1437\n",
      "Epoch 2/25\n",
      "8000/8000 [==============================] - 2s 279us/sample - loss: 3.7590\n",
      "Epoch 3/25\n",
      "8000/8000 [==============================] - 2s 281us/sample - loss: 3.3962\n",
      "Epoch 4/25\n",
      "8000/8000 [==============================] - 2s 281us/sample - loss: 3.1173\n",
      "Epoch 5/25\n",
      "8000/8000 [==============================] - 2s 280us/sample - loss: 2.9180\n",
      "Epoch 6/25\n",
      "8000/8000 [==============================] - 2s 279us/sample - loss: 2.7784\n",
      "Epoch 7/25\n",
      "8000/8000 [==============================] - 2s 286us/sample - loss: 2.6813\n",
      "Epoch 8/25\n",
      "8000/8000 [==============================] - 2s 281us/sample - loss: 2.6103\n",
      "Epoch 9/25\n",
      "8000/8000 [==============================] - 2s 284us/sample - loss: 2.5587\n",
      "Epoch 10/25\n",
      "8000/8000 [==============================] - 2s 285us/sample - loss: 2.5201\n",
      "Epoch 11/25\n",
      "8000/8000 [==============================] - 2s 284us/sample - loss: 2.4904\n",
      "Epoch 12/25\n",
      "8000/8000 [==============================] - 2s 284us/sample - loss: 2.4671\n",
      "Epoch 13/25\n",
      "8000/8000 [==============================] - 2s 285us/sample - loss: 2.4485\n",
      "Epoch 14/25\n",
      "8000/8000 [==============================] - 2s 287us/sample - loss: 2.4333\n",
      "Epoch 15/25\n",
      "8000/8000 [==============================] - 2s 295us/sample - loss: 2.4207\n",
      "Epoch 16/25\n",
      "8000/8000 [==============================] - 2s 297us/sample - loss: 2.4101\n",
      "Epoch 17/25\n",
      "8000/8000 [==============================] - 2s 289us/sample - loss: 2.4010\n",
      "Epoch 18/25\n",
      "8000/8000 [==============================] - 2s 302us/sample - loss: 2.3930\n",
      "Epoch 19/25\n",
      "8000/8000 [==============================] - 2s 286us/sample - loss: 2.3858\n",
      "Epoch 20/25\n",
      "8000/8000 [==============================] - 2s 296us/sample - loss: 2.3793\n",
      "Epoch 21/25\n",
      "8000/8000 [==============================] - 2s 287us/sample - loss: 2.3731\n",
      "Epoch 22/25\n",
      "8000/8000 [==============================] - 2s 287us/sample - loss: 2.3673\n",
      "Epoch 23/25\n",
      "8000/8000 [==============================] - 2s 286us/sample - loss: 2.3617\n",
      "Epoch 24/25\n",
      "8000/8000 [==============================] - 2s 290us/sample - loss: 2.3561\n",
      "Epoch 25/25\n",
      "8000/8000 [==============================] - 2s 290us/sample - loss: 2.3506\n"
     ]
    }
   ],
   "source": [
    "MultiplicationTraining = Training_Tensorflow(OutputVector='Multiplication')\n",
    "MultiplicationTraining.TrainTheModel(activation='relu',loss='mean_squared_logarithmic_error')"
   ]
  },
  {
   "cell_type": "code",
   "execution_count": 11,
   "metadata": {},
   "outputs": [
    {
     "data": {
      "text/plain": [
       "6.19"
      ]
     },
     "execution_count": 11,
     "metadata": {},
     "output_type": "execute_result"
    }
   ],
   "source": [
    "MultiplicationTraining.PredictOneVal(A=5,B=5)"
   ]
  },
  {
   "cell_type": "markdown",
   "metadata": {},
   "source": [
    "### As you can see it is relatively difficult. Why don't you play with it and find out a good solution."
   ]
  },
  {
   "cell_type": "markdown",
   "metadata": {},
   "source": [
    "### Let us move to Sin and Cos"
   ]
  },
  {
   "cell_type": "code",
   "execution_count": 19,
   "metadata": {},
   "outputs": [
    {
     "name": "stdout",
     "output_type": "stream",
     "text": [
      "Train on 8000 samples\n",
      "Epoch 1/25\n",
      "8000/8000 [==============================] - 2s 279us/sample - loss: 0.5747\n",
      "Epoch 2/25\n",
      "8000/8000 [==============================] - 2s 251us/sample - loss: 0.5234\n",
      "Epoch 3/25\n",
      "8000/8000 [==============================] - 2s 278us/sample - loss: 0.5075\n",
      "Epoch 4/25\n",
      "8000/8000 [==============================] - 2s 273us/sample - loss: 0.5012\n",
      "Epoch 5/25\n",
      "8000/8000 [==============================] - 2s 262us/sample - loss: 0.4983\n",
      "Epoch 6/25\n",
      "8000/8000 [==============================] - 2s 272us/sample - loss: 0.4969\n",
      "Epoch 7/25\n",
      "8000/8000 [==============================] - 2s 273us/sample - loss: 0.4962\n",
      "Epoch 8/25\n",
      "8000/8000 [==============================] - 2s 269us/sample - loss: 0.4958\n",
      "Epoch 9/25\n",
      "8000/8000 [==============================] - 2s 257us/sample - loss: 0.4955\n",
      "Epoch 10/25\n",
      "8000/8000 [==============================] - 2s 262us/sample - loss: 0.4954\n",
      "Epoch 11/25\n",
      "8000/8000 [==============================] - 2s 255us/sample - loss: 0.4953\n",
      "Epoch 12/25\n",
      "8000/8000 [==============================] - 2s 284us/sample - loss: 0.4953\n",
      "Epoch 13/25\n",
      "8000/8000 [==============================] - 2s 261us/sample - loss: 0.4953\n",
      "Epoch 14/25\n",
      "8000/8000 [==============================] - 2s 263us/sample - loss: 0.4952\n",
      "Epoch 15/25\n",
      "8000/8000 [==============================] - 2s 264us/sample - loss: 0.4952\n",
      "Epoch 16/25\n",
      "8000/8000 [==============================] - 2s 273us/sample - loss: 0.4952\n",
      "Epoch 17/25\n",
      "8000/8000 [==============================] - 2s 268us/sample - loss: 0.4952\n",
      "Epoch 18/25\n",
      "8000/8000 [==============================] - 2s 263us/sample - loss: 0.4952\n",
      "Epoch 19/25\n",
      "8000/8000 [==============================] - 2s 272us/sample - loss: 0.4952\n",
      "Epoch 20/25\n",
      "8000/8000 [==============================] - 2s 262us/sample - loss: 0.4952\n",
      "Epoch 21/25\n",
      "8000/8000 [==============================] - 2s 260us/sample - loss: 0.4952\n",
      "Epoch 22/25\n",
      "8000/8000 [==============================] - 2s 261us/sample - loss: 0.4952\n",
      "Epoch 23/25\n",
      "8000/8000 [==============================] - 2s 263us/sample - loss: 0.4952\n",
      "Epoch 24/25\n",
      "8000/8000 [==============================] - 2s 279us/sample - loss: 0.4952\n",
      "Epoch 25/25\n",
      "8000/8000 [==============================] - 2s 263us/sample - loss: 0.4952\n"
     ]
    }
   ],
   "source": [
    "SinTraining = Training_Tensorflow(OutputVector='Sin(Addition)')\n",
    "SinTraining.TrainTheModel()"
   ]
  },
  {
   "cell_type": "code",
   "execution_count": 23,
   "metadata": {},
   "outputs": [
    {
     "name": "stdout",
     "output_type": "stream",
     "text": [
      "Train on 8000 samples\n",
      "Epoch 1/25\n",
      "8000/8000 [==============================] - 3s 313us/sample - loss: 0.7059\n",
      "Epoch 2/25\n",
      "8000/8000 [==============================] - 2s 279us/sample - loss: 0.6760\n",
      "Epoch 3/25\n",
      "8000/8000 [==============================] - 2s 282us/sample - loss: 0.6605\n",
      "Epoch 4/25\n",
      "8000/8000 [==============================] - 2s 286us/sample - loss: 0.6521\n",
      "Epoch 5/25\n",
      "8000/8000 [==============================] - 2s 282us/sample - loss: 0.6475\n",
      "Epoch 6/25\n",
      "8000/8000 [==============================] - 2s 285us/sample - loss: 0.6447\n",
      "Epoch 7/25\n",
      "8000/8000 [==============================] - 2s 284us/sample - loss: 0.6431\n",
      "Epoch 8/25\n",
      "8000/8000 [==============================] - 2s 287us/sample - loss: 0.6421\n",
      "Epoch 9/25\n",
      "8000/8000 [==============================] - 2s 287us/sample - loss: 0.6415\n",
      "Epoch 10/25\n",
      "8000/8000 [==============================] - 2s 288us/sample - loss: 0.6411\n",
      "Epoch 11/25\n",
      "8000/8000 [==============================] - 2s 284us/sample - loss: 0.6408\n",
      "Epoch 12/25\n",
      "8000/8000 [==============================] - 2s 288us/sample - loss: 0.6406\n",
      "Epoch 13/25\n",
      "8000/8000 [==============================] - 2s 290us/sample - loss: 0.6405\n",
      "Epoch 14/25\n",
      "8000/8000 [==============================] - 2s 287us/sample - loss: 0.6403\n",
      "Epoch 15/25\n",
      "8000/8000 [==============================] - 2s 289us/sample - loss: 0.6402\n",
      "Epoch 16/25\n",
      "8000/8000 [==============================] - 2s 286us/sample - loss: 0.6402\n",
      "Epoch 17/25\n",
      "8000/8000 [==============================] - 2s 287us/sample - loss: 0.6401\n",
      "Epoch 18/25\n",
      "8000/8000 [==============================] - 2s 284us/sample - loss: 0.6401\n",
      "Epoch 19/25\n",
      "8000/8000 [==============================] - 2s 290us/sample - loss: 0.6400\n",
      "Epoch 20/25\n",
      "8000/8000 [==============================] - 2s 288us/sample - loss: 0.6399\n",
      "Epoch 21/25\n",
      "8000/8000 [==============================] - 2s 290us/sample - loss: 0.6399\n",
      "Epoch 22/25\n",
      "8000/8000 [==============================] - 2s 284us/sample - loss: 0.6399\n",
      "Epoch 23/25\n",
      "8000/8000 [==============================] - 2s 288us/sample - loss: 0.6398\n",
      "Epoch 24/25\n",
      "8000/8000 [==============================] - 2s 290us/sample - loss: 0.6398\n",
      "Epoch 25/25\n",
      "8000/8000 [==============================] - 2s 287us/sample - loss: 0.6397\n"
     ]
    }
   ],
   "source": [
    "CosTraining = Training_Tensorflow(OutputVector='Cos(Addition)')\n",
    "CosTraining.TrainTheModel(activation='selu',loss='mean_absolute_error')"
   ]
  },
  {
   "cell_type": "code",
   "execution_count": 24,
   "metadata": {},
   "outputs": [
    {
     "data": {
      "text/plain": [
       "0.0"
      ]
     },
     "execution_count": 24,
     "metadata": {},
     "output_type": "execute_result"
    }
   ],
   "source": [
    "CosTraining.PredictOneVal(A=0.5,B=0.5)"
   ]
  },
  {
   "cell_type": "code",
   "execution_count": 25,
   "metadata": {},
   "outputs": [
    {
     "data": {
      "text/plain": [
       "0.0"
      ]
     },
     "execution_count": 25,
     "metadata": {},
     "output_type": "execute_result"
    }
   ],
   "source": [
    "CosTraining.PredictOneVal(A=0.0,B=0.0)"
   ]
  },
  {
   "cell_type": "markdown",
   "metadata": {},
   "source": [
    "### Looks like it is not working for Sin and Cos well either. Now we will see 2^Addition and log(Addition)"
   ]
  },
  {
   "cell_type": "code",
   "execution_count": 29,
   "metadata": {},
   "outputs": [
    {
     "name": "stdout",
     "output_type": "stream",
     "text": [
      "Train on 8000 samples\n",
      "Epoch 1/25\n",
      "8000/8000 [==============================] - 2s 283us/sample - loss: 5710.8631\n",
      "Epoch 2/25\n",
      "8000/8000 [==============================] - 2s 256us/sample - loss: 5710.8306\n",
      "Epoch 3/25\n",
      "8000/8000 [==============================] - 2s 256us/sample - loss: 5710.8099\n",
      "Epoch 4/25\n",
      "8000/8000 [==============================] - 2s 258us/sample - loss: 5710.7965\n",
      "Epoch 5/25\n",
      "8000/8000 [==============================] - 2s 257us/sample - loss: 5710.7874\n",
      "Epoch 6/25\n",
      "8000/8000 [==============================] - 2s 256us/sample - loss: 5710.7802\n",
      "Epoch 7/25\n",
      "8000/8000 [==============================] - 2s 261us/sample - loss: 5710.7739\n",
      "Epoch 8/25\n",
      "8000/8000 [==============================] - 2s 259us/sample - loss: 5710.7678\n",
      "Epoch 9/25\n",
      "8000/8000 [==============================] - 2s 280us/sample - loss: 5710.7616\n",
      "Epoch 10/25\n",
      "8000/8000 [==============================] - 2s 261us/sample - loss: 5710.7551\n",
      "Epoch 11/25\n",
      "8000/8000 [==============================] - 2s 258us/sample - loss: 5710.7483\n",
      "Epoch 12/25\n",
      "8000/8000 [==============================] - 2s 260us/sample - loss: 5710.7409\n",
      "Epoch 13/25\n",
      "8000/8000 [==============================] - 2s 292us/sample - loss: 5710.7329\n",
      "Epoch 14/25\n",
      "8000/8000 [==============================] - 3s 361us/sample - loss: 5710.7243\n",
      "Epoch 15/25\n",
      "8000/8000 [==============================] - 2s 260us/sample - loss: 5710.7149\n",
      "Epoch 16/25\n",
      "8000/8000 [==============================] - 2s 295us/sample - loss: 5710.7049\n",
      "Epoch 17/25\n",
      "8000/8000 [==============================] - 2s 267us/sample - loss: 5710.6940\n",
      "Epoch 18/25\n",
      "8000/8000 [==============================] - 2s 287us/sample - loss: 5710.6826\n",
      "Epoch 19/25\n",
      "8000/8000 [==============================] - 2s 271us/sample - loss: 5710.6703\n",
      "Epoch 20/25\n",
      "8000/8000 [==============================] - 2s 269us/sample - loss: 5710.6573\n",
      "Epoch 21/25\n",
      "8000/8000 [==============================] - 2s 261us/sample - loss: 5710.6440\n",
      "Epoch 22/25\n",
      "8000/8000 [==============================] - 2s 269us/sample - loss: 5710.6303\n",
      "Epoch 23/25\n",
      "8000/8000 [==============================] - 2s 265us/sample - loss: 5710.6165\n",
      "Epoch 24/25\n",
      "8000/8000 [==============================] - 2s 286us/sample - loss: 5710.6026\n",
      "Epoch 25/25\n",
      "8000/8000 [==============================] - 2s 290us/sample - loss: 5710.5889\n"
     ]
    }
   ],
   "source": [
    "TwoPowerTraining = Training_Tensorflow(OutputVector='2^Addition')\n",
    "TwoPowerTraining.TrainTheModel(activation='tanh',loss='mean_absolute_error')"
   ]
  },
  {
   "cell_type": "markdown",
   "metadata": {},
   "source": [
    "### Looks like it is not working much for this one either. Time for you to roll up tricks from your sleeves"
   ]
  },
  {
   "cell_type": "markdown",
   "metadata": {},
   "source": [
    "## Now let us do classification on the final column and call it bye for this csv file. \n",
    "### To do that first we have to replace odd and even with 0 and 1 in the DF and thus we modify the class slightly."
   ]
  },
  {
   "cell_type": "code",
   "execution_count": 21,
   "metadata": {},
   "outputs": [],
   "source": [
    "class Training_Tensorflow_Classification:\n",
    "    \n",
    "    def __init__(self, \n",
    "                 A = Master_DF.A, \n",
    "                 B = Master_DF.B, \n",
    "                 OutputVector=None, \n",
    "                 ClassificationOrRegression=\"Regression\"):\n",
    "        \n",
    "        self.Master_DF_Classification = Master_DF.copy()\n",
    "        self.Master_DF_Classification.replace(\"Odd\",0,inplace=True)\n",
    "        self.Master_DF_Classification.replace(\"Even\",1,inplace=True)\n",
    "        self.A = A\n",
    "        self.B = B\n",
    "        self.OutputVector = OutputVector\n",
    "        self.TypeOfTraining = ClassificationOrRegression\n",
    "        self.Training_DF = None\n",
    "        self.Test_DF = None\n",
    "        self.Model = None\n",
    "        self.Predicted_DF = None\n",
    "        self.TrainTestSplit()\n",
    "        \n",
    "    def TrainTestSplit(self, TestFractionSize=0.2):\n",
    "        self.Training_DF, self.Test_DF = train_test_split(self.Master_DF_Classification, test_size=TestFractionSize)\n",
    "        \n",
    "    def TrainTheModel(self, DenseNodeSize = 1000, activation='linear',optimizer='sgd', loss='mean_squared_error'):\n",
    "        self.Model = tf.keras.Sequential()\n",
    "        self.Model.add(keras.layers.Dense(DenseNodeSize, activation=activation))\n",
    "        self.Model.add(keras.layers.Dense(DenseNodeSize, activation=activation))\n",
    "        self.Model.compile(optimizer=optimizer,loss=loss)\n",
    "        xs = np.array([(a,b) for a,b in zip(self.Training_DF.A,self.Training_DF.B)])\n",
    "        ys = np.array(self.Training_DF[self.OutputVector], dtype='float')\n",
    "        self.Model.fit(xs,ys,epochs=25)\n",
    "        \n",
    "    def PredictTheResult(self):\n",
    "        self.Predicted_DF = pd.DataFrame(columns=['InputVals','PredictedVals','Difference'],dtype='float')\n",
    "        self.Predicted_DF.InputVals = self.Test_DF[self.OutputVector]\n",
    "        xs = np.array([(a,b) for a,b in zip(self.Test_DF.A,self.Test_DF.B)])\n",
    "        self.Predicted_DF.PredictedVals = self.Model.predict(xs)[:len(self.Test_DF)]\n",
    "        self.Predicted_DF.Difference = self.Predicted_DF.InputVals - self.Predicted_DF.PredictedVals\n",
    "        \n",
    "    def PredictOneVal(self, A=None, B=None):\n",
    "        return np.round(self.Model.predict(np.array([[A,B]]))[0][0],2)\n",
    "    \n",
    "    def PlotThePredicted_DF(self):\n",
    "        plt.figure()\n",
    "        plt.plot(range(len(self.Test_DF)),self.Predicted_DF.Difference)\n",
    "        plt.show()"
   ]
  },
  {
   "cell_type": "code",
   "execution_count": 22,
   "metadata": {},
   "outputs": [
    {
     "name": "stdout",
     "output_type": "stream",
     "text": [
      "Train on 8000 samples\n",
      "Epoch 1/25\n",
      "8000/8000 [==============================] - 3s 386us/sample - loss: 3.4103\n",
      "Epoch 2/25\n",
      "8000/8000 [==============================] - 3s 343us/sample - loss: 3.4103\n",
      "Epoch 3/25\n",
      "8000/8000 [==============================] - 3s 347us/sample - loss: 3.4103\n",
      "Epoch 4/25\n",
      "8000/8000 [==============================] - 3s 348us/sample - loss: 3.4103\n",
      "Epoch 5/25\n",
      "8000/8000 [==============================] - 3s 356us/sample - loss: 3.4103\n",
      "Epoch 6/25\n",
      "8000/8000 [==============================] - 2s 299us/sample - loss: 3.4103\n",
      "Epoch 7/25\n",
      "8000/8000 [==============================] - 2s 297us/sample - loss: 3.4103\n",
      "Epoch 8/25\n",
      "8000/8000 [==============================] - 2s 298us/sample - loss: 3.4103\n",
      "Epoch 9/25\n",
      "8000/8000 [==============================] - 2s 294us/sample - loss: 3.4103\n",
      "Epoch 10/25\n",
      "8000/8000 [==============================] - 2s 296us/sample - loss: 3.4103\n",
      "Epoch 11/25\n",
      "8000/8000 [==============================] - 2s 297us/sample - loss: 3.4103\n",
      "Epoch 12/25\n",
      "8000/8000 [==============================] - 2s 310us/sample - loss: 3.4103\n",
      "Epoch 13/25\n",
      "8000/8000 [==============================] - 3s 359us/sample - loss: 3.4103\n",
      "Epoch 14/25\n",
      "8000/8000 [==============================] - 2s 310us/sample - loss: 3.4103\n",
      "Epoch 15/25\n",
      "8000/8000 [==============================] - 3s 316us/sample - loss: 3.4103\n",
      "Epoch 16/25\n",
      "8000/8000 [==============================] - 2s 308us/sample - loss: 3.4103\n",
      "Epoch 17/25\n",
      "8000/8000 [==============================] - 2s 312us/sample - loss: 3.4103\n",
      "Epoch 18/25\n",
      "8000/8000 [==============================] - 2s 308us/sample - loss: 3.4103\n",
      "Epoch 19/25\n",
      "8000/8000 [==============================] - 2s 305us/sample - loss: 3.4103\n",
      "Epoch 20/25\n",
      "8000/8000 [==============================] - 3s 315us/sample - loss: 3.4103\n",
      "Epoch 21/25\n",
      "8000/8000 [==============================] - 2s 305us/sample - loss: 3.4103\n",
      "Epoch 22/25\n",
      "8000/8000 [==============================] - 3s 314us/sample - loss: 3.4103\n",
      "Epoch 23/25\n",
      "8000/8000 [==============================] - 3s 316us/sample - loss: 3.4103\n",
      "Epoch 24/25\n",
      "8000/8000 [==============================] - 2s 312us/sample - loss: 3.4103\n",
      "Epoch 25/25\n",
      "8000/8000 [==============================] - 2s 312us/sample - loss: 3.4103\n"
     ]
    }
   ],
   "source": [
    "OddEvenTraining = Training_Tensorflow_Classification(OutputVector='ODD_OR_EVEN(CEIL(A+B))')\n",
    "OddEvenTraining.TrainTheModel(activation='softmax',loss='binary_crossentropy')"
   ]
  },
  {
   "cell_type": "code",
   "execution_count": 23,
   "metadata": {},
   "outputs": [
    {
     "data": {
      "text/plain": [
       "0.0"
      ]
     },
     "execution_count": 23,
     "metadata": {},
     "output_type": "execute_result"
    }
   ],
   "source": [
    "OddEvenTraining.PredictOneVal(A=5,B=5)"
   ]
  },
  {
   "cell_type": "code",
   "execution_count": 24,
   "metadata": {},
   "outputs": [
    {
     "data": {
      "text/plain": [
       "0.0"
      ]
     },
     "execution_count": 24,
     "metadata": {},
     "output_type": "execute_result"
    }
   ],
   "source": [
    "OddEvenTraining.PredictOneVal(A=5,B=6)"
   ]
  },
  {
   "cell_type": "code",
   "execution_count": null,
   "metadata": {},
   "outputs": [],
   "source": []
  }
 ],
 "metadata": {
  "kernelspec": {
   "display_name": "myvenv",
   "language": "python",
   "name": "myvenv"
  },
  "language_info": {
   "codemirror_mode": {
    "name": "ipython",
    "version": 3
   },
   "file_extension": ".py",
   "mimetype": "text/x-python",
   "name": "python",
   "nbconvert_exporter": "python",
   "pygments_lexer": "ipython3",
   "version": "3.6.4"
  }
 },
 "nbformat": 4,
 "nbformat_minor": 2
}
